{
 "cells": [
  {
   "cell_type": "markdown",
   "metadata": {
    "slideshow": {
     "slide_type": "slide"
    }
   },
   "source": [
    "# 建立用於科學計算的Python開發環境 #"
   ]
  },
  {
   "cell_type": "markdown",
   "metadata": {
    "slideshow": {
     "slide_type": "slide"
    }
   },
   "source": [
    "## 寫在前面：我為何想學Python ##\n",
    "\n",
    "- 開源精神： <a href=\"https://docs.python.org/3/license.html\" target=\"_blank\">Python 是 Open Source</a>，因此有許多第三方套件(含科學計算、天文研究)可供擴充使用。\n",
    "- 學習資源豐富： 除了Python官網提供詳細的<a href=\"https://docs.python.org/3.4/tutorial/\" target=\"_blank\">教學文件</a>外，網路上也有豐富的[學習資源](#learning_materials)，且容易上手 (<a href=\"http://cacm.acm.org/blogs/blog-cacm/176450-python-is-now-the-most-popular-introductory-teaching-language-at-top-us-universities/fulltext\" target=\"_blank\">許多美國大學資工系大一程式課程近年來改教Python</a>)。\n",
    "- 社群龐大： <a href=\"http://wiki.python.org.tw/\" target=\"_blank\">Python 台灣使用者群組</a>，<a href=\"http://www.astropython.org/\" target=\"_blank\">AstroPython</a>，<a href=\"https://www.facebook.com/groups/pythontw/\" target=\"_blank\">Python Taiwan</a> 臉書社群，<a href=\"https://www.facebook.com/groups/astropython/\" target=\"_blank\">Python users in Astronomy</a> 臉書社群 (僅列出台灣及天文相關使用者社群)。\n",
    "- 應用廣泛： <a href=\"http://bellm.org/blog/2011/05/27/why-astronomers-should-program-in-python/\" target=\"_blank\">Why Astronomers Should Program in Python</a> 一文指出大多數天文系所的學生畢業後並不會以天文學術研究作為長期職業，即便是博士畢業，也不見得都能找到終生職位，因此若以應用廣泛(不限於科學計算)的程式語言來訓練學生，將有助於學生未來的轉職。<a href=\"https://www.python.org/about/success/\" target=\"_blank\">Python官網有羅列Python在不同領域的應用</a>。"
   ]
  },
  {
   "cell_type": "markdown",
   "metadata": {
    "slideshow": {
     "slide_type": "slide"
    }
   },
   "source": [
    "## 快速建立用於科學計算的Python開發環境 ##\n",
    "\n",
    "因其開源的特性，Python社群會依據不同需求，把Python 直譯器(命令列環境)、圖形化介面開發工具(編輯器)、第三方套件及套件管理工具整合成不同的Python發行版本。然而，Python官網所提供的發行版本並不包含用於科學計算的第三方套件，另外，Mac OS X、Linux也只內建Python直譯器，因此，若想快速建立用於科學計算的Python開發環境，可考慮安裝以下其中一個Python發行版本(它們的官網都有下載連結及針對Linux、Mac OS X、Windows三個作業系統的個別安裝說明)：\n",
    "\n",
    "- <a href=\"https://store.continuum.io/cshop/anaconda/\" target=\"_blank\">Anaconda</a> (<a href=\"http://docs.continuum.io/anaconda/install.html\" target=\"_blank\">安裝說明</a>)\n",
    "- <a href=\"https://www.enthought.com/products/canopy/\" target=\"_blank\">Enthought Canopy</a> (<a href=\"http://docs.enthought.com/canopy/quick-start.html\" target=\"_blank\">安裝說明</a>)\n",
    "\n",
    "這兩個Python發行版本至少都包含NumPy、SciPy、matplotlib、pandas<a href=\"http://www.scipy.org/\" target=\"_blank\">這幾個第三方套件</a>，讓使用者可以完成檔案讀寫、矩陣運算、畫圖、線性代數、積分、內插、訊號與影像分析、解微分方程...等科學運算用途。這兩個發行版本也包含<a href=\"http://ipython.org/\" target=\"_blank\">IPython </a>互動式命令列環境，相較於預設的Python命令列環境，它有指令補齊、執行系統指令、瀏覽輸入過的程式碼...等進階功能。以下為Enthought Canopy的視窗截圖及介紹影片：\n",
    "\n",
    "<img src=\"images/canopy.png\" width=550>"
   ]
  },
  {
   "cell_type": "code",
   "execution_count": 1,
   "metadata": {
    "collapsed": false,
    "slideshow": {
     "slide_type": "fragment"
    }
   },
   "outputs": [
    {
     "data": {
      "text/html": [
       "\n",
       "        <iframe\n",
       "            width=\"400\"\n",
       "            height=\"300\"\n",
       "            src=\"https://www.youtube.com/embed/BunbITllM9g\"\n",
       "            frameborder=\"0\"\n",
       "            allowfullscreen\n",
       "        ></iframe>\n",
       "        "
      ],
      "text/plain": [
       "<IPython.lib.display.YouTubeVideo at 0x7f43d04a8fd0>"
      ]
     },
     "execution_count": 1,
     "metadata": {},
     "output_type": "execute_result"
    }
   ],
   "source": [
    "from IPython.display import YouTubeVideo \n",
    "YouTubeVideo(\"BunbITllM9g\")                        #插入介紹Enthought Canopy的YouTube影片"
   ]
  },
  {
   "cell_type": "markdown",
   "metadata": {
    "slideshow": {
     "slide_type": "slide"
    }
   },
   "source": [
    "## 自行安裝Python科學運算套件 ##\n",
    "\n",
    "除了直接安裝Python發行版本的方法外，Mac OS X及Linux的使用者也可以選擇透過作業系統的套件管理工具 (apt-get install 、yum install、port install) 自行安裝Python科學運算套件，請參考<a href=\"http://www.scipy.org/install.html\" target=\"_blank\">安裝說明</a>。\n",
    "\n",
    "(註：未來我會在此節對NumPy、SciPy、matplotlib、pandas、IPython等套件稍加介紹。)"
   ]
  },
  {
   "cell_type": "markdown",
   "metadata": {
    "slideshow": {
     "slide_type": "slide"
    }
   },
   "source": [
    "## 專門用於天文研究的Python套件 ##\n",
    "\n",
    "類似IDL的Astronomy Users Library，Python的天文研究社群也建立了專門用於天文研究的Python套件：\n",
    "\n",
    "- <a href=\"http://www.astropy.org\" target=\"_blank\">Astropy</a>  (<a href=\"http://astropy.readthedocs.org/en/stable/install.html\" target=\"_blank\">安裝說明</a>)\n",
    "- <a href=\"http://www.astroml.org\" target=\"_blank\">AstroML</a>  (<a href=\"http://www.astroml.org/user_guide/installation.html#installation\" target=\"_blank\">安裝說明</a>)\n",
    "\n",
    "它們提供讀取FITS檔、天文座標系統轉換、線性迴歸、曲線擬合、周期分析...等模組。這兩個套件可在終端機下輸入 <a href=\"https://pypi.python.org/pypi/pip\" target=\"_blank\">pip (Python Package Index)</a> 指令安裝：\n",
    "``` shell\n",
    "pip install astropy\n",
    "pip install astroML\n",
    "```\n",
    "詳細請參考套件官網的安裝說明。"
   ]
  },
  {
   "cell_type": "markdown",
   "metadata": {
    "slideshow": {
     "slide_type": "slide"
    }
   },
   "source": [
    "## <a id=\"learning_materials\">學習資源</a> ##\n",
    "Python的<a href=\"https://docs.python.org/3.4/tutorial/\" target=\"_blank\">官方教學文件</a>以及上述第三方套件的官方教學文件都提供詳細的說明及範例，而<a href=\"http://www.astropython.org\" target=\"_blank\">AstroPython網站</a>也有給天文研究人員的Python入門指南。此外，<a href=\"http://wiki.python.org.tw/Python/%E7%AC%AC%E4%B8%80%E6%AC%A1%E7%94%A8%E5%B0%B1%E4%B8%8A%E6%89%8B\" target=\"_blank\">Python的台灣使用者社群網站</a>也羅列了許多學習資源。以下列出我所整理的學習資源：\n",
    "\n",
    "1. 基礎語法\n",
    "    - <a href=\"https://docs.python.org/3.4/tutorial/\" target=\"_blank\">The Python Tutorial</a> (官方教學文件)\n",
    "    - <a href=\"http://learnpythonthehardway.org/book/\" target=\"_blank\">Learn Python the Hard Way</a> (電子書)\n",
    "    - <a href=\"http://www.diveintopython.net/\" target=\"_blank\">Dive Into Python</a> (電子書)\n",
    "    - <a href=\"http://www.greenteapress.com/thinkpython/\" target=\"_blank\">Think Python</a> (電子書)\n",
    "    - <a href=\"https://www.coursera.org/course/pythonlearn\" target=\"_blank\">Programming for Everybody (Python)</a> (Coursera的線上課程-University of Michigan)\n",
    "    - <a href=\"https://www.edx.org/course/introduction-computer-science-mitx-6-00-1x-0\" target=\"_blank\">Introduction to Computer Science and Programming Using Python</a> (edX的線上課程-MIT)\n",
    "    - <a href=\"https://www.edx.org/course/introduction-computational-thinking-data-mitx-6-00-2x-0\" target=\"_blank\">Introduction to Computational Thinking and Data Science</a> (edX的線上課程-MIT)\n",
    "    - <a href=\"https://www.coursera.org/specialization/fundamentalscomputing2/37?utm_medium=catalog\" target=\"_blank\">Fundamentals of Computing</a> (Coursera的線上系列課程-Rice University)\n",
    "    - <a href=\"https://www.udacity.com/course/cs101\" target=\"_blank\">Intro to Computer Science</a> (Udacity的線上課程)\n",
    "    - <a href=\"http://www.codecademy.com/en/tracks/python\" target=\"_blank\">Codecademy Python Track</a> (Codecademy的線上課程)\n",
    "    \n",
    "\n",
    "2. 科學計算/天文研究\n",
    "    - <a href=\"http://www.scipy.org/getting-started.html\" target=\"_blank\">Getting Started — SciPy.org</a> (SciPy官方教學文件)\n",
    "    - <a href=\"http://python4astronomers.github.io/\" target=\"_blank\">Practical Python for Astronomers</a> (給天文研究人員的Python入門指南)\n",
    "    - <a href=\"http://www.astro.washington.edu/users/vanderplas/Astr599_2014/\" target=\"_blank\">Scientific Computing with Python</a> (天文學家Jake VanderPlas所教授的課程筆記) \n",
    "    - <a href=\"http://www.amazon.com/Statistics-Mining-Machine-Learning-Astronomy/dp/0691151687\" target=\"_blank\">Statistics, Data Mining, and Machine Learning in Astronomy: A Practical Python Guide for the Analysis of Survey Data</a> (可當作教科書或平時查閱的參考書)\n",
    "    - <a href=\"https://www.coursera.org/course/scicomp\" target=\"_blank\">High Performance Scientific Computing</a> (Coursera的線上課程-University of Washington)\n",
    "    - <a href=\"http://myshare.dscloud.me/scipydoc/\" target=\"_blank\">用Python做科學計算</a> (作者 張若愚)"
   ]
  },
  {
   "cell_type": "markdown",
   "metadata": {
    "slideshow": {
     "slide_type": "slide"
    }
   },
   "source": [
    "## 授權條款 ##\n",
    "\n",
    "<a rel=\"license\" href=\"http://creativecommons.org/licenses/by-sa/4.0/\"><img alt=\"創用 CC 授權條款\" style=\"border-width:0\" src=\"https://i.creativecommons.org/l/by-sa/4.0/88x31.png\" /></a><br /><span xmlns:dct=\"http://purl.org/dc/terms/\" property=\"dct:title\">Python在天文研究上的應用之系列文章</span>由<a xmlns:cc=\"http://creativecommons.org/ns#\" href=\"https://github.com/YihaoSu\" property=\"cc:attributionName\" rel=\"cc:attributionURL\">蘇羿豪</a>製作，以<a rel=\"license\" href=\"http://creativecommons.org/licenses/by-sa/4.0/\">創用CC 姓名標示-相同方式分享 4.0 國際 授權條款</a>釋出。\n",
    "\n",
    "若你想要修改重製此系列文章，可在終端機輸入以下指令(需安裝<a href=\"http://git-scm.com/downloads\" target=\"_blank\">git</a>)下載原始碼：\n",
    "\n",
    "``` shell\n",
    "git clone  https://github.com/YihaoSu/astropython-notes.git\n",
    "```"
   ]
  }
 ],
 "metadata": {
  "celltoolbar": "Slideshow",
  "kernelspec": {
   "display_name": "Python 2",
   "language": "python",
   "name": "python2"
  },
  "language_info": {
   "codemirror_mode": {
    "name": "ipython",
    "version": 2
   },
   "file_extension": ".py",
   "mimetype": "text/x-python",
   "name": "python",
   "nbconvert_exporter": "python",
   "pygments_lexer": "ipython2",
   "version": "2.7.9"
  }
 },
 "nbformat": 4,
 "nbformat_minor": 0
}
