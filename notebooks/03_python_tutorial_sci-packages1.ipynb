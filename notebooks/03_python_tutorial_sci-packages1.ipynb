{
 "cells": [
  {
   "cell_type": "markdown",
   "metadata": {},
   "source": [
    "# Python 基本語法與科學計算套件的使用： Python科學計算套件(一)"
   ]
  },
  {
   "cell_type": "markdown",
   "metadata": {},
   "source": [
    "## 四堂課程大綱\n",
    "- 第一堂-Python 基礎(一)：Python 簡介及環境建立、Python程式的編寫及執行、資料型態、基本輸入輸出、流程控制\n",
    "- 第二堂-Python 基礎(二)：檔案讀寫、例外處理、函數、模組、物件導向\n",
    "- 第三堂-Python科學計算套件(一)：Numpy、Matplotlib \n",
    "- 第四堂-Python科學計算套件(二)：Scipy、Astropy"
   ]
  },
  {
   "cell_type": "markdown",
   "metadata": {},
   "source": [
    "## Numpy"
   ]
  },
  {
   "cell_type": "markdown",
   "metadata": {},
   "source": [
    "- Python 內建的list資料結構不適合數值運算\n",
    "- Python 內建的range()函數無法以浮點數來設定序列間距"
   ]
  },
  {
   "cell_type": "code",
   "execution_count": 1,
   "metadata": {
    "collapsed": false
   },
   "outputs": [
    {
     "name": "stdout",
     "output_type": "stream",
     "text": [
      "[2.4, 5, 6.3, 4.1, 2.4, 5, 6.3, 4.1, 2.4, 5, 6.3, 4.1, 2.4, 5, 6.3, 4.1, 2.4, 5, 6.3, 4.1, 2.4, 5, 6.3, 4.1, 2.4, 5, 6.3, 4.1, 2.4, 5, 6.3, 4.1, 2.4, 5, 6.3, 4.1, 2.4, 5, 6.3, 4.1, 2.4, 5, 6.3, 4.1, 2.4, 5, 6.3, 4.1, 2.4, 5, 6.3, 4.1, 2.4, 5, 6.3, 4.1, 2.4, 5, 6.3, 4.1, 2.4, 5, 6.3, 4.1, 2.4, 5, 6.3, 4.1, 2.4, 5, 6.3, 4.1, 2.4, 5, 6.3, 4.1, 2.4, 5, 6.3, 4.1, 2.4, 5, 6.3, 4.1, 2.4, 5, 6.3, 4.1, 2.4, 5, 6.3, 4.1, 2.4, 5, 6.3, 4.1, 2.4, 5, 6.3, 4.1, 2.4, 5, 6.3, 4.1, 2.4, 5, 6.3, 4.1, 2.4, 5, 6.3, 4.1, 2.4, 5, 6.3, 4.1, 2.4, 5, 6.3, 4.1, 2.4, 5, 6.3, 4.1, 2.4, 5, 6.3, 4.1, 2.4, 5, 6.3, 4.1, 2.4, 5, 6.3, 4.1, 2.4, 5, 6.3, 4.1, 2.4, 5, 6.3, 4.1, 2.4, 5, 6.3, 4.1, 2.4, 5, 6.3, 4.1, 2.4, 5, 6.3, 4.1, 2.4, 5, 6.3, 4.1, 2.4, 5, 6.3, 4.1, 2.4, 5, 6.3, 4.1, 2.4, 5, 6.3, 4.1, 2.4, 5, 6.3, 4.1, 2.4, 5, 6.3, 4.1, 2.4, 5, 6.3, 4.1, 2.4, 5, 6.3, 4.1, 2.4, 5, 6.3, 4.1, 2.4, 5, 6.3, 4.1, 2.4, 5, 6.3, 4.1, 2.4, 5, 6.3, 4.1, 2.4, 5, 6.3, 4.1, 2.4, 5, 6.3, 4.1, 2.4, 5, 6.3, 4.1, 2.4, 5, 6.3, 4.1, 2.4, 5, 6.3, 4.1, 2.4, 5, 6.3, 4.1, 2.4, 5, 6.3, 4.1, 2.4, 5, 6.3, 4.1, 2.4, 5, 6.3, 4.1]\n"
     ]
    },
    {
     "ename": "TypeError",
     "evalue": "can't multiply sequence by non-int of type 'float'",
     "output_type": "error",
     "traceback": [
      "\u001b[1;31m---------------------------------------------------------------------------\u001b[0m",
      "\u001b[1;31mTypeError\u001b[0m                                 Traceback (most recent call last)",
      "\u001b[1;32m<ipython-input-1-b1efce155ec5>\u001b[0m in \u001b[0;36m<module>\u001b[1;34m()\u001b[0m\n\u001b[0;32m      3\u001b[0m \u001b[0mbh_mass\u001b[0m \u001b[1;33m=\u001b[0m \u001b[1;33m[\u001b[0m\u001b[1;36m4.3\u001b[0m\u001b[1;33m,\u001b[0m \u001b[1;36m5.8\u001b[0m\u001b[1;33m,\u001b[0m \u001b[1;36m9.5\u001b[0m\u001b[1;33m,\u001b[0m \u001b[1;36m7.6\u001b[0m\u001b[1;33m]\u001b[0m\u001b[1;33m\u001b[0m\u001b[0m\n\u001b[0;32m      4\u001b[0m \u001b[0mMASS_SUN\u001b[0m \u001b[1;33m=\u001b[0m \u001b[1;36m1.99\u001b[0m \u001b[1;33m*\u001b[0m \u001b[1;36m10\u001b[0m \u001b[1;33m**\u001b[0m \u001b[1;36m30\u001b[0m\u001b[1;33m\u001b[0m\u001b[0m\n\u001b[1;32m----> 5\u001b[1;33m \u001b[0mprint\u001b[0m\u001b[1;33m(\u001b[0m\u001b[0mMASS_SUN\u001b[0m \u001b[1;33m*\u001b[0m \u001b[0mbh_mass\u001b[0m\u001b[1;33m)\u001b[0m\u001b[1;33m\u001b[0m\u001b[0m\n\u001b[0m",
      "\u001b[1;31mTypeError\u001b[0m: can't multiply sequence by non-int of type 'float'"
     ]
    }
   ],
   "source": [
    "period = [2.4, 5, 6.3, 4.1]\n",
    "print(60 * period)\n",
    "bh_mass = [4.3, 5.8, 9.5, 7.6]\n",
    "MASS_SUN = 1.99 * 10 ** 30\n",
    "print(MASS_SUN * bh_mass)"
   ]
  },
  {
   "cell_type": "code",
   "execution_count": 2,
   "metadata": {
    "collapsed": false
   },
   "outputs": [
    {
     "ename": "TypeError",
     "evalue": "'float' object cannot be interpreted as an integer",
     "output_type": "error",
     "traceback": [
      "\u001b[1;31m---------------------------------------------------------------------------\u001b[0m",
      "\u001b[1;31mTypeError\u001b[0m                                 Traceback (most recent call last)",
      "\u001b[1;32m<ipython-input-2-4f9db0022dc3>\u001b[0m in \u001b[0;36m<module>\u001b[1;34m()\u001b[0m\n\u001b[1;32m----> 1\u001b[1;33m \u001b[0mtime\u001b[0m \u001b[1;33m=\u001b[0m \u001b[0mlist\u001b[0m\u001b[1;33m(\u001b[0m\u001b[0mrange\u001b[0m\u001b[1;33m(\u001b[0m\u001b[1;36m1\u001b[0m\u001b[1;33m,\u001b[0m\u001b[1;36m10\u001b[0m\u001b[1;33m,\u001b[0m \u001b[1;36m0.1\u001b[0m\u001b[1;33m)\u001b[0m\u001b[1;33m)\u001b[0m\u001b[1;33m\u001b[0m\u001b[0m\n\u001b[0m",
      "\u001b[1;31mTypeError\u001b[0m: 'float' object cannot be interpreted as an integer"
     ]
    }
   ],
   "source": [
    "time = list(range(1,10, 0.1))"
   ]
  },
  {
   "cell_type": "markdown",
   "metadata": {},
   "source": [
    "- 引入Numpy 套件"
   ]
  },
  {
   "cell_type": "code",
   "execution_count": 3,
   "metadata": {
    "collapsed": true
   },
   "outputs": [],
   "source": [
    "import numpy as np"
   ]
  },
  {
   "cell_type": "markdown",
   "metadata": {},
   "source": [
    "\n",
    "- 建立Numpy陣列"
   ]
  },
  {
   "cell_type": "code",
   "execution_count": 4,
   "metadata": {
    "collapsed": false
   },
   "outputs": [
    {
     "name": "stdout",
     "output_type": "stream",
     "text": [
      "[ 144.  300.  378.  246.]\n",
      "[  8.55700000e+30   1.15420000e+31   1.89050000e+31   1.51240000e+31]\n"
     ]
    }
   ],
   "source": [
    "period = np.array([2.4, 5, 6.3, 4.1])\n",
    "print(60 * period)\n",
    "bh_mass = np.array([4.3, 5.8, 9.5, 7.6])\n",
    "MASS_SUN = 1.99 * 10 ** 30\n",
    "print(MASS_SUN * bh_mass)"
   ]
  },
  {
   "cell_type": "code",
   "execution_count": 5,
   "metadata": {
    "collapsed": false
   },
   "outputs": [
    {
     "name": "stdout",
     "output_type": "stream",
     "text": [
      "[ 1.   1.1  1.2  1.3  1.4  1.5  1.6  1.7  1.8  1.9  2.   2.1  2.2  2.3  2.4\n",
      "  2.5  2.6  2.7  2.8  2.9  3.   3.1  3.2  3.3  3.4  3.5  3.6  3.7  3.8  3.9\n",
      "  4.   4.1  4.2  4.3  4.4  4.5  4.6  4.7  4.8  4.9  5.   5.1  5.2  5.3  5.4\n",
      "  5.5  5.6  5.7  5.8  5.9  6.   6.1  6.2  6.3  6.4  6.5  6.6  6.7  6.8  6.9\n",
      "  7.   7.1  7.2  7.3  7.4  7.5  7.6  7.7  7.8  7.9  8.   8.1  8.2  8.3  8.4\n",
      "  8.5  8.6  8.7  8.8  8.9  9.   9.1  9.2  9.3  9.4  9.5  9.6  9.7  9.8  9.9]\n",
      "[  1.     3.25   5.5    7.75  10.  ]\n",
      "[ 0.  0.  0.  0.  0.  0.  0.  0.  0.  0.]\n",
      "[ 1.  1.  1.  1.  1.  1.  1.  1.  1.  1.]\n"
     ]
    }
   ],
   "source": [
    "time = np.arange(1, 10, 0.1)\n",
    "time2 = np.linspace(1, 10, 5)\n",
    "init_value = np.zeros(10)\n",
    "init_value2= np.ones(10)\n",
    "print(time)\n",
    "print(time2)\n",
    "print(init_value)\n",
    "print(init_value2)"
   ]
  },
  {
   "cell_type": "markdown",
   "metadata": {},
   "source": [
    "- Numpy陣列的屬性"
   ]
  },
  {
   "cell_type": "code",
   "execution_count": 6,
   "metadata": {
    "collapsed": false
   },
   "outputs": [
    {
     "name": "stdout",
     "output_type": "stream",
     "text": [
      "2\n",
      "(2, 4)\n",
      "float64\n"
     ]
    }
   ],
   "source": [
    "period2 = np.array([[2.4, 5, 6.3, 4.1], [4.2, 5.3, 1.2, 7.1]])\n",
    "print(period2.ndim)\n",
    "print(period2.shape)\n",
    "print(period2.dtype)"
   ]
  },
  {
   "cell_type": "markdown",
   "metadata": {},
   "source": [
    "- Numpy陣列的操作"
   ]
  },
  {
   "cell_type": "code",
   "execution_count": 7,
   "metadata": {
    "collapsed": false
   },
   "outputs": [
    {
     "name": "stdout",
     "output_type": "stream",
     "text": [
      "[ 2.4  5.   6.3  4.1]\n",
      "[ 5.3  1.2]\n"
     ]
    }
   ],
   "source": [
    "print(period2[0])\n",
    "print(period2[1][1:-1])"
   ]
  },
  {
   "cell_type": "code",
   "execution_count": 8,
   "metadata": {
    "collapsed": false
   },
   "outputs": [
    {
     "name": "stdout",
     "output_type": "stream",
     "text": [
      "[ 2.4  4.1  5.   6.3]\n",
      "[0 3 1 2]\n",
      "2\n",
      "(array([1, 2]),)\n",
      "[ 5.   6.3]\n"
     ]
    }
   ],
   "source": [
    "print(np.sort(period2[0]))\n",
    "print(np.argsort(period2[0]))\n",
    "print(np.argmax(period2[0]))\n",
    "print(np.where(period2[0] > 4.5))\n",
    "print(np.extract(period2[0] > 4.5, period2[0]))"
   ]
  },
  {
   "cell_type": "code",
   "execution_count": 9,
   "metadata": {
    "collapsed": false
   },
   "outputs": [
    {
     "name": "stdout",
     "output_type": "stream",
     "text": [
      "[ 595.10565163  598.22872507  599.80267284  599.80267284  598.22872507\n",
      "  595.10565163  590.48270525  584.43279255  577.05132428  568.45471059\n",
      "  558.77852523  548.17536741  536.81245527  524.86898872  512.53332336\n",
      "  500.          487.46667664  475.13101128  463.18754473  451.82463259\n",
      "  441.22147477  431.54528941  422.94867572  415.56720745  409.51729475\n",
      "  404.89434837  401.77127493  400.19732716  400.19732716  401.77127493\n",
      "  404.89434837  409.51729475  415.56720745  422.94867572  431.54528941\n",
      "  441.22147477  451.82463259  463.18754473  475.13101128  487.46667664\n",
      "  500.          512.53332336  524.86898872  536.81245527  548.17536741\n",
      "  558.77852523  568.45471059  577.05132428  584.43279255  590.48270525\n",
      "  595.10565163  598.22872507  599.80267284  599.80267284  598.22872507\n",
      "  595.10565163  590.48270525  584.43279255  577.05132428  568.45471059\n",
      "  558.77852523  548.17536741  536.81245527  524.86898872  512.53332336\n",
      "  500.          487.46667664  475.13101128  463.18754473  451.82463259\n",
      "  441.22147477  431.54528941  422.94867572  415.56720745  409.51729475\n",
      "  404.89434837  401.77127493  400.19732716  400.19732716  401.77127493\n",
      "  404.89434837  409.51729475  415.56720745  422.94867572  431.54528941\n",
      "  441.22147477  451.82463259  463.18754473  475.13101128  487.46667664]\n"
     ]
    }
   ],
   "source": [
    "counts = 100 * np.sin(2 * np.pi * 1. / period2[0][1] * time) + 500\n",
    "print(counts)"
   ]
  },
  {
   "cell_type": "markdown",
   "metadata": {},
   "source": [
    "- 亂數產生"
   ]
  },
  {
   "cell_type": "code",
   "execution_count": 10,
   "metadata": {
    "collapsed": false
   },
   "outputs": [
    {
     "name": "stdout",
     "output_type": "stream",
     "text": [
      "[ 0.09771688  0.60013091  0.43664984  0.84141845  0.83958617]\n",
      "[ 0.26876012 -0.30773132 -0.97503905 -1.77275886 -0.71107921  0.24238924\n",
      "  0.59113817  1.63725153 -0.1578142   1.77425657]\n",
      "[ 4.0845323   3.45175006  4.64666443  6.53051118  4.45553314  3.55934193\n",
      "  5.19803264  6.67435586  4.56425583  5.65537258]\n"
     ]
    }
   ],
   "source": [
    "import numpy.random as npr\n",
    "print(npr.rand(5))\n",
    "print(npr.randn(10))\n",
    "print(npr.normal(5., 1., 10))"
   ]
  },
  {
   "cell_type": "markdown",
   "metadata": {},
   "source": [
    "- 檔案輸出輸入"
   ]
  },
  {
   "cell_type": "code",
   "execution_count": 11,
   "metadata": {
    "collapsed": false
   },
   "outputs": [],
   "source": [
    "lc = np.array([time, counts])\n",
    "np.savetxt('test.out', lc)\n",
    "input_time, input_counts = np.loadtxt('test.out')"
   ]
  },
  {
   "cell_type": "code",
   "execution_count": 12,
   "metadata": {
    "collapsed": false
   },
   "outputs": [
    {
     "name": "stdout",
     "output_type": "stream",
     "text": [
      "[ 1.   1.1  1.2  1.3  1.4  1.5  1.6  1.7  1.8  1.9  2.   2.1  2.2  2.3  2.4\n",
      "  2.5  2.6  2.7  2.8  2.9  3.   3.1  3.2  3.3  3.4  3.5  3.6  3.7  3.8  3.9\n",
      "  4.   4.1  4.2  4.3  4.4  4.5  4.6  4.7  4.8  4.9  5.   5.1  5.2  5.3  5.4\n",
      "  5.5  5.6  5.7  5.8  5.9  6.   6.1  6.2  6.3  6.4  6.5  6.6  6.7  6.8  6.9\n",
      "  7.   7.1  7.2  7.3  7.4  7.5  7.6  7.7  7.8  7.9  8.   8.1  8.2  8.3  8.4\n",
      "  8.5  8.6  8.7  8.8  8.9  9.   9.1  9.2  9.3  9.4  9.5  9.6  9.7  9.8  9.9]\n",
      "[ 595.10565163  598.22872507  599.80267284  599.80267284  598.22872507\n",
      "  595.10565163  590.48270525  584.43279255  577.05132428  568.45471059\n",
      "  558.77852523  548.17536741  536.81245527  524.86898872  512.53332336\n",
      "  500.          487.46667664  475.13101128  463.18754473  451.82463259\n",
      "  441.22147477  431.54528941  422.94867572  415.56720745  409.51729475\n",
      "  404.89434837  401.77127493  400.19732716  400.19732716  401.77127493\n",
      "  404.89434837  409.51729475  415.56720745  422.94867572  431.54528941\n",
      "  441.22147477  451.82463259  463.18754473  475.13101128  487.46667664\n",
      "  500.          512.53332336  524.86898872  536.81245527  548.17536741\n",
      "  558.77852523  568.45471059  577.05132428  584.43279255  590.48270525\n",
      "  595.10565163  598.22872507  599.80267284  599.80267284  598.22872507\n",
      "  595.10565163  590.48270525  584.43279255  577.05132428  568.45471059\n",
      "  558.77852523  548.17536741  536.81245527  524.86898872  512.53332336\n",
      "  500.          487.46667664  475.13101128  463.18754473  451.82463259\n",
      "  441.22147477  431.54528941  422.94867572  415.56720745  409.51729475\n",
      "  404.89434837  401.77127493  400.19732716  400.19732716  401.77127493\n",
      "  404.89434837  409.51729475  415.56720745  422.94867572  431.54528941\n",
      "  441.22147477  451.82463259  463.18754473  475.13101128  487.46667664]\n"
     ]
    }
   ],
   "source": [
    "print(input_time)\n",
    "print(input_counts)"
   ]
  },
  {
   "cell_type": "markdown",
   "metadata": {},
   "source": [
    "## Matplotlib"
   ]
  },
  {
   "cell_type": "markdown",
   "metadata": {},
   "source": [
    "- 引入Matplotlib 套件"
   ]
  },
  {
   "cell_type": "code",
   "execution_count": 13,
   "metadata": {
    "collapsed": false
   },
   "outputs": [],
   "source": [
    "import matplotlib.pyplot as plt\n",
    "%matplotlib inline"
   ]
  },
  {
   "cell_type": "markdown",
   "metadata": {},
   "source": [
    "- 基本樣式控制及文字標示"
   ]
  },
  {
   "cell_type": "code",
   "execution_count": 14,
   "metadata": {
    "collapsed": false
   },
   "outputs": [
    {
     "data": {
      "text/plain": [
       "([<matplotlib.axis.YTick at 0x7f6bfcbcadd8>,\n",
       "  <matplotlib.axis.YTick at 0x7f6bfcbcab38>,\n",
       "  <matplotlib.axis.YTick at 0x7f6bfcbcfef0>],\n",
       " <a list of 3 Text yticklabel objects>)"
      ]
     },
     "execution_count": 14,
     "metadata": {},
     "output_type": "execute_result"
    },
    {
     "data": {
      "image/png": "[encoded data removed]",
      "text/plain": [
       "<matplotlib.figure.Figure at 0x7f6bfcc29240>"
      ]
     },
     "metadata": {},
     "output_type": "display_data"
    }
   ],
   "source": [
    "plt.plot(input_time, input_counts)\n",
    "plt.xlabel('Time')\n",
    "plt.ylabel('Counts')\n",
    "plt.title('Light curve', fontsize=18)\n",
    "plt.axis([1, 15, 350, 700])\n",
    "plt.xticks([1, 5, 10])\n",
    "plt.yticks([350, 500, 700])\n",
    "#plt.show()  # 開啟圖片編輯視窗，並將圖顯示在該視窗中，透過該視窗可修改圖片、存檔"
   ]
  },
  {
   "cell_type": "code",
   "execution_count": 15,
   "metadata": {
    "collapsed": false
   },
   "outputs": [
    {
     "data": {
      "text/plain": [
       "[<matplotlib.lines.Line2D at 0x7f6bfcb15048>]"
      ]
     },
     "execution_count": 15,
     "metadata": {},
     "output_type": "execute_result"
    },
    {
     "data": {
      "image/png": "[encoded data removed]",
      "text/plain": [
       "<matplotlib.figure.Figure at 0x7f6bfcc19b70>"
      ]
     },
     "metadata": {},
     "output_type": "display_data"
    }
   ],
   "source": [
    "#plt.hold(True) # 保留目前的圖，以便重疊繪圖\n",
    "plt.plot(input_time, input_counts-100, marker='o', color='green', linewidth=1)"
   ]
  },
  {
   "cell_type": "code",
   "execution_count": 16,
   "metadata": {
    "collapsed": false
   },
   "outputs": [
    {
     "data": {
      "text/plain": [
       "[<matplotlib.lines.Line2D at 0x7f6bfca80be0>]"
      ]
     },
     "execution_count": 16,
     "metadata": {},
     "output_type": "execute_result"
    },
    {
     "data": {
      "image/png": "[encoded data removed]",
      "text/plain": [
       "<matplotlib.figure.Figure at 0x7f6bfcb23908>"
      ]
     },
     "metadata": {},
     "output_type": "display_data"
    }
   ],
   "source": [
    "plt.plot(input_time, input_counts+100, 'r*')\n",
    "#plt.legend(('lc1', 'lc2', 'lc3'))\n",
    "#plt.hold(False)\n",
    "#plt.savefig('my_plot.png') "
   ]
  },
  {
   "cell_type": "markdown",
   "metadata": {},
   "source": [
    "- 把多張圖合併成一張圖"
   ]
  },
  {
   "cell_type": "code",
   "execution_count": 17,
   "metadata": {
    "collapsed": false
   },
   "outputs": [
    {
     "data": {
      "text/plain": [
       "[<matplotlib.lines.Line2D at 0x7f6bfca6f198>]"
      ]
     },
     "execution_count": 17,
     "metadata": {},
     "output_type": "execute_result"
    },
    {
     "data": {
      "image/png": "[encoded data removed]",
      "text/plain": [
       "<matplotlib.figure.Figure at 0x7f6bfca8cb70>"
      ]
     },
     "metadata": {},
     "output_type": "display_data"
    }
   ],
   "source": [
    "plt.subplot(211)\n",
    "plt.plot(input_time, input_counts)\n",
    "plt.subplot(212)\n",
    "plt.plot(input_time, input_counts, '.m')"
   ]
  },
  {
   "cell_type": "markdown",
   "metadata": {},
   "source": [
    "- 畫error bar"
   ]
  },
  {
   "cell_type": "code",
   "execution_count": 18,
   "metadata": {
    "collapsed": false
   },
   "outputs": [
    {
     "data": {
      "text/plain": [
       "<Container object of 3 artists>"
      ]
     },
     "execution_count": 18,
     "metadata": {},
     "output_type": "execute_result"
    },
    {
     "data": {
      "image/png": "[encoded data removed]",
      "text/plain": [
       "<matplotlib.figure.Figure at 0x7f6bfc9d46a0>"
      ]
     },
     "metadata": {},
     "output_type": "display_data"
    }
   ],
   "source": [
    "y_errors = 10 * npr.rand(len(input_time)) + 5\n",
    "plt.plot(input_time, input_counts, 'k.')\n",
    "plt.errorbar(input_time, input_counts, yerr=y_errors, fmt='r')"
   ]
  },
  {
   "cell_type": "markdown",
   "metadata": {},
   "source": [
    "## 作業小專題"
   ]
  },
  {
   "cell_type": "markdown",
   "metadata": {},
   "source": [
    "- 修改上堂課的作業，將使用者輸入的參數 (伴星質量、軌道傾角、軌道周期、伴星的徑向速度) 各自存成Numpy陣列\n",
    "- 修改上堂課的作業，將程式所挑出的黑洞X-ray雙星相關資訊以Numpy陣列的型式輸出成一個檔案\n",
    "- 利用所挑出的黑洞X-ray雙星中的周期，模擬出其X-ray光變曲線觀測資料，並利用亂數陣列加入雜訊\n",
    "- 畫出你所模擬出的X-ray光變曲線觀測資料"
   ]
  },
  {
   "cell_type": "markdown",
   "metadata": {},
   "source": [
    "## 補充文件\n",
    "- <a href=\"http://docs.scipy.org/doc/numpy/\" target=\"_blank\">Numpy官方文件</a>\n",
    "- <a href=\"http://docs.scipy.org/doc/numpy/reference/routines.array-creation.html\" target=\"_blank\">各種Numpy陣列的建立</a>\n",
    "- <a href=\"http://docs.scipy.org/doc/numpy/reference/routines.sort.html\" target=\"_blank\">排序及搜尋Numpy陣列中的元素</a>\n",
    "- <a href=\"http://docs.scipy.org/doc/numpy/reference/routines.array-manipulation.html\" target=\"_blank\">更多關於Numpy陣列的操作</a>\n",
    "- <a href=\"http://docs.scipy.org/doc/numpy/reference/routines.random.html\" target=\"_blank\">Numpy亂數產生</a>\n",
    "- <a href=\"http://docs.scipy.org/doc/numpy/reference/routines.math.html\" target=\"_blank\">Numpy數學函數</a>\n",
    "- <a href=\"http://docs.scipy.org/doc/numpy/reference/routines.linalg.html\" target=\"_blank\">關於線性代數的Numpy模組</a>\n",
    "- <a href=\"http://docs.scipy.org/doc/numpy/reference/routines.io.html\" target=\"_blank\">關於檔案輸出輸入的Numpy模組</a>\n",
    "- <a href=\"http://matplotlib.org/contents.html\" target=\"_blank\">Matplotlib官方文件</a>\n",
    "- <a href=\"http://matplotlib.org/users/index_text.html\" target=\"_blank\">Matplotlib對於圖片上文字的操作(可用TeX 語法)</a>\n",
    "- <a href=\"http://www2.mpia-hd.mpg.de/~robitaille/PY4SCI_SS_2015/\" target=\"_blank\">Python for Scientists (天文學家Thomas Robitaille 的課程筆記)</a>\n",
    "- <a href=\"http://www.astro.washington.edu/users/vanderplas/Astr599_2014/\" target=\"_blank\">Scientific Computing with Python (天文學家Jake VanderPlas的課程筆記)</a>\n",
    "- <a href=\"http://www-personal.umich.edu/~mejn/cp/chapters/programming.pdf\" target=\"_blank\">Computational Physics with Python (Chapter 2: Python programming for physicists)</a>\n",
    "- <a href=\"http://www.astro.ncu.edu.tw/~yhsu/yhsu/%E5%BB%BA%E7%AB%8B%E7%94%A8%E6%96%BC%E7%A7%91%E5%AD%B8%E8%A8%88%E7%AE%97%E7%9A%84python%E9%96%8B%E7%99%BC%E7%92%B0%E5%A2%83/#%E5%AD%B8%E7%BF%92%E8%B3%87%E6%BA%90\" target=\"_blank\">更多學習資源</a>"
   ]
  },
  {
   "cell_type": "markdown",
   "metadata": {},
   "source": [
    "## 授權條款 ##\n",
    "\n",
    "<a rel=\"license\" href=\"http://creativecommons.org/licenses/by-sa/4.0/\"><img alt=\"創用 CC 授權條款\" style=\"border-width:0\" src=\"https://i.creativecommons.org/l/by-sa/4.0/88x31.png\" /></a><br /><span xmlns:dct=\"http://purl.org/dc/terms/\" property=\"dct:title\">Python在天文研究上的應用之系列文章</span>由<a xmlns:cc=\"http://creativecommons.org/ns#\" href=\"https://github.com/YihaoSu\" property=\"cc:attributionName\" rel=\"cc:attributionURL\">蘇羿豪</a>製作，以<a rel=\"license\" href=\"http://creativecommons.org/licenses/by-sa/4.0/\">創用CC 姓名標示-相同方式分享 4.0 國際 授權條款</a>釋出。\n",
    "\n",
    "此系列文章是用IPython Notebook編寫，若你想要修改重製文章，可在終端機輸入以下指令(需安裝<a href=\"http://git-scm.com/downloads\" target=\"_blank\">git</a>)下載原始碼：\n",
    "\n",
    "``` shell\n",
    "git clone https://github.com/YihaoSu/astropython-notes.git\n",
    "```\n",
    "或者直接下載原始碼壓縮檔 https://github.com/YihaoSu/astropython-notes/archive/master.zip"
   ]
  }
 ],
 "metadata": {
  "kernelspec": {
   "display_name": "Python 3",
   "language": "python",
   "name": "python3"
  },
  "language_info": {
   "codemirror_mode": {
    "name": "ipython",
    "version": 3
   },
   "file_extension": ".py",
   "mimetype": "text/x-python",
   "name": "python",
   "nbconvert_exporter": "python",
   "pygments_lexer": "ipython3",
   "version": "3.4.3"
  }
 },
 "nbformat": 4,
 "nbformat_minor": 0
}
